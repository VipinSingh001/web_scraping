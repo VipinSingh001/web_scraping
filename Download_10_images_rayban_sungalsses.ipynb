{
 "cells": [
  {
   "cell_type": "markdown",
   "metadata": {},
   "source": [
    "# Scrap 10 images from Rayban Sunglasses"
   ]
  },
  {
   "cell_type": "code",
   "execution_count": 2,
   "metadata": {},
   "outputs": [
    {
     "name": "stdout",
     "output_type": "stream",
     "text": [
      "Collecting selenium\n",
      "  Using cached https://files.pythonhosted.org/packages/80/d6/4294f0b4bce4de0abf13e17190289f9d0613b0a44e5dd6a7f5ca98459853/selenium-3.141.0-py2.py3-none-any.whl\n",
      "Requirement already satisfied: urllib3 in c:\\users\\lenovo\\anaconda3\\lib\\site-packages (from selenium) (1.24.2)\n",
      "Installing collected packages: selenium\n",
      "Successfully installed selenium-3.141.0\n"
     ]
    }
   ],
   "source": [
    "!pip install selenium\n"
   ]
  },
  {
   "cell_type": "code",
   "execution_count": 5,
   "metadata": {},
   "outputs": [],
   "source": [
    "from selenium import webdriver\n",
    "import os\n",
    "\n"
   ]
  },
  {
   "cell_type": "code",
   "execution_count": 16,
   "metadata": {},
   "outputs": [],
   "source": [
    "driver = webdriver.Chrome(executable_path='C:\\Webdriver\\chromedriver.exe')\n",
    "current_page_url=driver.get('https://www.flipkart.com/search?q=ray+ban+sunglasses+men&sid=26x&as=on&as-show=on&otracker=AS_QueryStore_OrganicAutoSuggest_1_3_na_na_na&otracker1=AS_QueryStore_OrganicAutoSuggest_1_3_na_na_na&as-pos=1&as-type=HISTORY&suggestionId=ray+ban+sunglasses+men%7CSunglasses&requestId=5d1104bf-78d4-456b-aeb5-fe613ee0dae8')"
   ]
  },
  {
   "cell_type": "code",
   "execution_count": 17,
   "metadata": {},
   "outputs": [],
   "source": [
    "#make directory to store images\n",
    "def make_dir(dir_name):\n",
    "    current_page=os.getcwd()\n",
    "    path=os.path.join(current_page, dir_name)\n",
    "    if not os.path.exists(path):\n",
    "        os.makedirs(path)\n"
   ]
  },
  {
   "cell_type": "code",
   "execution_count": 18,
   "metadata": {},
   "outputs": [],
   "source": [
    "#make directory where images will save\n",
    "make_dir('Rayban_Sunglasses')\n"
   ]
  },
  {
   "cell_type": "code",
   "execution_count": 19,
   "metadata": {},
   "outputs": [],
   "source": [
    "images = driver.find_elements_by_xpath(\"//img[@class='_3togXc']\")\n"
   ]
  },
  {
   "cell_type": "code",
   "execution_count": 20,
   "metadata": {},
   "outputs": [
    {
     "data": {
      "text/plain": [
       "<selenium.webdriver.remote.webelement.WebElement (session=\"608f458983646e732fa8140ed1a4db80\", element=\"1b9332f1-4b59-42bd-9376-8928676248b2\")>"
      ]
     },
     "execution_count": 20,
     "metadata": {},
     "output_type": "execute_result"
    }
   ],
   "source": [
    "images[0]"
   ]
  },
  {
   "cell_type": "code",
   "execution_count": 21,
   "metadata": {},
   "outputs": [
    {
     "name": "stdout",
     "output_type": "stream",
     "text": [
      "https://rukminim1.flixcart.com/image/329/395/sunglass/3/c/h/0rb3025i-001-51-ray-ban-58-original-imadwmsxjgyk8zj5.jpeg?q=50\n",
      "https://rukminim1.flixcart.com/image/329/395/jj8vyq80/sunglass/w/x/d/55-0rb4165-ray-ban-original-imaf6sstqryqkgze.jpeg?q=50\n",
      "https://rukminim1.flixcart.com/image/329/395/juu4jgw0/sunglass/k/c/k/55-0rb35889146-155-ray-ban-original-imaffhqbqarmveff.jpeg?q=50\n",
      "https://rukminim1.flixcart.com/image/329/395/jcgjo280/sunglass/f/z/j/0rb3025il020558-58-ray-ban-original-imaffh7kugyggnff.jpeg?q=50\n",
      "https://rukminim1.flixcart.com/image/329/395/jj7givk0/sunglass/h/2/h/58-0rb3025i-ray-ban-original-imaexcmg93ybdxb9.jpeg?q=50\n",
      "https://rukminim1.flixcart.com/image/329/395/sunglass/q/j/z/0rb3025i031-3258-ray-ban-58-original-imadtrdtyy7xx56p.jpeg?q=50\n",
      "https://rukminim1.flixcart.com/image/329/395/k8ho0i80/sunglass/f/j/j/56-0rb4387601-7156-ray-ban-original-imafqhhcbptjbjxj.jpeg?q=50\n",
      "https://rukminim1.flixcart.com/image/329/395/sunglass/w/f/g/0rb3025112-4l58-ray-ban-58-original-imaeazzaxrxkmngk.jpeg?q=50\n",
      "https://rukminim1.flixcart.com/image/329/395/jcnovbk0/sunglass/y/x/r/0rb344700153-53-ray-ban-original-imaffh7kgzhfqpfs.jpeg?q=50\n",
      "https://rukminim1.flixcart.com/image/329/395/sunglass/d/c/9/3052i-60-w3180-ray-ban-m-original-imaem82yvgjh6zxk.jpeg?q=50\n",
      "https://rukminim1.flixcart.com/image/329/395/sunglass/u/g/7/0rb3342i004-58-ray-ban-63-original-imadswbuxzksdvmu.jpeg?q=50\n",
      "https://rukminim1.flixcart.com/image/329/395/k8ho0i80/sunglass/k/m/k/62-0rb3025i001-5862-ray-ban-original-imafqhhcsshwqwzg.jpeg?q=50\n",
      "https://rukminim1.flixcart.com/image/329/395/j20qv0w0/sunglass/n/r/2/56-0rb3381i00456-ray-ban-original-imaethyrf3hgwrxa.jpeg?q=50\n",
      "https://rukminim1.flixcart.com/image/329/395/k8ho0i80/sunglass/x/c/y/58-0rb3025i004-7858-ray-ban-original-imafqhhcx9epaxvx.jpeg?q=50\n",
      "https://rukminim1.flixcart.com/image/329/395/jhjg13k0/sunglass/7/b/c/55-0rb3025i088-3f55-ray-ban-original-imaf5jazzjktdnx2.jpeg?q=50\n",
      "https://rukminim1.flixcart.com/image/329/395/j20qv0w0/sunglass/3/j/z/55-0rb3025032-3255-ray-ban-original-imaeth2rhyp9rydf.jpeg?q=50\n",
      "https://rukminim1.flixcart.com/image/329/395/k8ho0i80/sunglass/8/9/w/55-0rb3025i006555-ray-ban-original-imafqhhcggzwfyqk.jpeg?q=50\n",
      "https://rukminim1.flixcart.com/image/329/395/sunglass/h/t/c/0rb3025iw3276-ray-ban-58-original-imads6euukke2rt7.jpeg?q=50\n",
      "https://rukminim1.flixcart.com/image/329/395/kekadu80-0/sunglass/s/t/f/0rb3025i002-3f58-58-ray-ban-original-imafv7epdvbx6ksu.jpeg?q=50\n",
      "https://rukminim1.flixcart.com/image/329/395/k8ho0i80/sunglass/s/a/j/61-0rb3334i00261-ray-ban-original-imafqhhcqjhm3tgg.jpeg?q=50\n",
      "https://rukminim1.flixcart.com/image/329/395/jcp4b680/sunglass/k/h/r/0rb3025il174458-58-ray-ban-original-imaffmybvfbh4rmx.jpeg?q=50\n",
      "https://rukminim1.flixcart.com/image/329/395/jv6zi4w0/sunglass/m/n/h/0rb368991483158-58-ray-ban-original-imafg572vxghtbk6.jpeg?q=50\n",
      "https://rukminim1.flixcart.com/image/329/395/sunglass/y/n/a/0rb3025i002-32-ray-ban-55-original-imadrnwp8d3apgjt.jpeg?q=50\n",
      "https://rukminim1.flixcart.com/image/329/395/sunglass/n/e/d/0rb4165601-8g-ray-ban-55-original-imadrnwpnmkgyhdy.jpeg?q=50\n",
      "https://rukminim1.flixcart.com/image/329/395/sunglass/n/e/c/0rb3025i002-37-ray-ban-58-original-imadsj4azfqy9fcp.jpeg?q=50\n",
      "https://rukminim1.flixcart.com/image/329/395/jp1i93k0/sunglass/m/n/z/0rb3098iw096200-57-ray-ban-original-imafb6zswumjww8s.jpeg?q=50\n",
      "https://rukminim1.flixcart.com/image/329/395/jcgjo280/sunglass/7/v/x/0rb3025i001-5758-58-ray-ban-original-imaffh7kbchnjefk.jpeg?q=50\n",
      "https://rukminim1.flixcart.com/image/329/395/k8ho0i80/sunglass/g/5/h/63-0rb3412i-ray-ban-original-imafqhhcy8pzpwew.jpeg?q=50\n",
      "https://rukminim1.flixcart.com/image/329/395/j20qv0w0/sunglass/r/4/h/57-0rb3335i00257-ray-ban-original-imaeth2gh7vhaxyk.jpeg?q=50\n",
      "https://rukminim1.flixcart.com/image/329/395/juu4jgw0/sunglass/t/u/u/52-0rb21851249aa52-ray-ban-original-imaffhqatd6sdbw7.jpeg?q=50\n",
      "https://rukminim1.flixcart.com/image/329/395/k8ho0i80/sunglass/q/r/q/55-0rb3025i003-3f55-ray-ban-original-imafqhhchzh6nwqm.jpeg?q=50\n",
      "https://rukminim1.flixcart.com/image/329/395/k8ho0i80/sunglass/6/s/r/62-0rb8318ch004-6o62-ray-ban-original-imafqhhcggzswbpe.jpeg?q=50\n",
      "https://rukminim1.flixcart.com/image/329/395/jcrz6vk0/sunglass/z/p/g/0rb3334i-61-ray-ban-original-imaffuynud4cgmkr.jpeg?q=50\n",
      "https://rukminim1.flixcart.com/image/329/395/k8ho0i80/sunglass/v/g/b/61-0rb3334i00161-ray-ban-original-imafqhhc8wcnuj3u.jpeg?q=50\n",
      "https://rukminim1.flixcart.com/image/329/395/k8ho0i80/sunglass/2/y/b/55-0rb368991483155-ray-ban-original-imafqhhck3zqzgqb.jpeg?q=50\n",
      "https://rukminim1.flixcart.com/image/329/395/juu4jgw0/sunglass/3/9/e/55-0rb30259156aj55-ray-ban-original-imaffm77fgntwycr.jpeg?q=50\n",
      "https://rukminim1.flixcart.com/image/329/395/j81xsi80/sunglass/j/2/y/49-0rb3016901-5849-ray-ban-original-imaey5tvm6cexgns.jpeg?q=50\n",
      "https://rukminim1.flixcart.com/image/329/395/k8ho0i80/sunglass/x/e/h/59-0rb3449i-ray-ban-original-imafqhhdfvepeyhs.jpeg?q=50\n",
      "https://rukminim1.flixcart.com/image/329/395/jcp4b680/sunglass/j/d/p/0rb3025i112-1958-58-ray-ban-original-imaffh7kcha4uryu.jpeg?q=50\n",
      "https://rukminim1.flixcart.com/image/329/395/k8ho0i80/sunglass/q/a/a/59-0rb3449i-ray-ban-original-imafqhhdpgzxgran.jpeg?q=50\n"
     ]
    }
   ],
   "source": [
    "\n",
    "#getting urls\n",
    "urls=[]\n",
    "for image in images:\n",
    "    source=image.get_attribute('src')\n",
    "    urls.append(source)\n",
    "    print(source)\n",
    "    "
   ]
  },
  {
   "cell_type": "code",
   "execution_count": 23,
   "metadata": {},
   "outputs": [
    {
     "data": {
      "text/plain": [
       "40"
      ]
     },
     "execution_count": 23,
     "metadata": {},
     "output_type": "execute_result"
    }
   ],
   "source": [
    "len(urls)"
   ]
  },
  {
   "cell_type": "code",
   "execution_count": 30,
   "metadata": {},
   "outputs": [],
   "source": [
    "import requests\n",
    "import shutil"
   ]
  },
  {
   "cell_type": "code",
   "execution_count": 35,
   "metadata": {},
   "outputs": [
    {
     "name": "stdout",
     "output_type": "stream",
     "text": [
      "Downloading 1 of 40 images\n",
      "Downloading 2 of 40 images\n",
      "Downloading 3 of 40 images\n",
      "Downloading 4 of 40 images\n",
      "Downloading 5 of 40 images\n",
      "Downloading 6 of 40 images\n",
      "Downloading 7 of 40 images\n",
      "Downloading 8 of 40 images\n",
      "Downloading 9 of 40 images\n",
      "Downloading 10 of 40 images\n"
     ]
    }
   ],
   "source": [
    "#download images with the help of urls--- only 10 images\n",
    "page =1\n",
    "\n",
    "for index, link in enumerate(urls):\n",
    "    if index <=9:\n",
    "        print(\"Downloading {0} of {1} images\".format(index+1,len(urls)))\n",
    "        response= requests.get(link) \n",
    "        with open('Rayban_Sunglasses/img_{0}{1}.jpeg'.format(index,page),\"wb\") as file:\n",
    "            file.write(response.content)\n",
    "    else:\n",
    "        file.close\n",
    "        break\n",
    "    \n",
    "    \n",
    "       "
   ]
  },
  {
   "cell_type": "code",
   "execution_count": null,
   "metadata": {},
   "outputs": [],
   "source": []
  }
 ],
 "metadata": {
  "kernelspec": {
   "display_name": "Python 3",
   "language": "python",
   "name": "python3"
  },
  "language_info": {
   "codemirror_mode": {
    "name": "ipython",
    "version": 3
   },
   "file_extension": ".py",
   "mimetype": "text/x-python",
   "name": "python",
   "nbconvert_exporter": "python",
   "pygments_lexer": "ipython3",
   "version": "3.7.4"
  }
 },
 "nbformat": 4,
 "nbformat_minor": 2
}
